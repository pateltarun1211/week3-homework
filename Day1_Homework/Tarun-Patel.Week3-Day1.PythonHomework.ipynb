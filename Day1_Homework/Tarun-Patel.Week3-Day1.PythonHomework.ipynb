{
 "cells": [
  {
   "cell_type": "markdown",
   "metadata": {},
   "source": [
    "# Map, Filter, Reduce, Lambda & Recursion"
   ]
  },
  {
   "cell_type": "markdown",
   "metadata": {},
   "source": [
    "## Tasks Today:\n",
    "\n",
    "1) <b>Lambda Functions</b> <br>\n",
    " &nbsp;&nbsp;&nbsp;&nbsp; a) Syntax <br>\n",
    " &nbsp;&nbsp;&nbsp;&nbsp; b) Saving to a Variable <br>\n",
    " &nbsp;&nbsp;&nbsp;&nbsp; c) Multiple Inputs <br>\n",
    " &nbsp;&nbsp;&nbsp;&nbsp; d) Passing a Lambda into a Function <br>\n",
    " &nbsp;&nbsp;&nbsp;&nbsp; e) Returning a Lambda from a Function <br>\n",
    " &nbsp;&nbsp;&nbsp;&nbsp; f) In-Class Exercise #1 <br>\n",
    "2) <b>Map</b> <br>\n",
    " &nbsp;&nbsp;&nbsp;&nbsp; a) Syntax <br>\n",
    " &nbsp;&nbsp;&nbsp;&nbsp; b) Using Lambda's with Map <br>\n",
    " &nbsp;&nbsp;&nbsp;&nbsp; c) In-Class Exercise #2 <br>\n",
    "3) <b>Filter</b> <br>\n",
    " &nbsp;&nbsp;&nbsp;&nbsp; a) Syntax <br>\n",
    " &nbsp;&nbsp;&nbsp;&nbsp; b) Using Lambda's with Filter <br>\n",
    " &nbsp;&nbsp;&nbsp;&nbsp; c) In-Class Exercise #3 <br>\n",
    "4) <b>Reduce</b> <br>\n",
    " &nbsp;&nbsp;&nbsp;&nbsp; a) Syntax <br>\n",
    " &nbsp;&nbsp;&nbsp;&nbsp; b) Using Lambda's with Reduce <br>\n",
    " &nbsp;&nbsp;&nbsp;&nbsp; c) In-Class Exercise #4 <br>\n",
    "5) <b>Recursion</b> <br>\n",
    " &nbsp;&nbsp;&nbsp;&nbsp; a) Implementing a Base <br>\n",
    " &nbsp;&nbsp;&nbsp;&nbsp; b) Writing a Factorial Function <br>\n",
    " &nbsp;&nbsp;&nbsp;&nbsp; c) In-Class Exercise #5 <br>\n",
    "6) <b>Generators & Iterators</b> <br>\n",
    " &nbsp;&nbsp;&nbsp;&nbsp; a) Yield Keyword <br>\n",
    " &nbsp;&nbsp;&nbsp;&nbsp; b) Inifinite Generator <br>\n",
    " &nbsp;&nbsp;&nbsp;&nbsp; c) In-Class Exercise #6 <br>\n",
    "7) <b>Exercises</b> <br>\n",
    " &nbsp;&nbsp;&nbsp;&nbsp; a) Exercise #1 - Filtering Empty Strings <br>\n",
    " &nbsp;&nbsp;&nbsp;&nbsp; b) Exercise #2 - Sorting with Last Name <br>\n",
    " &nbsp;&nbsp;&nbsp;&nbsp; c) Exercise #3 - Conversion to Farhenheit <br>\n",
    " &nbsp;&nbsp;&nbsp;&nbsp; d) Exercise #4 - Fibonacci Sequence <br>"
   ]
  },
  {
   "cell_type": "markdown",
   "metadata": {},
   "source": [
    "## Lambda Functions <br>\n",
    "<p>Lambda functions... or \"Anonymous Functions\" are referring to inline functions with no name. The keyword lambda denotes the no name function, and executes within a single line. Without saving it to a variable; however, it is not able to be used, unless passed in either as a paramater or within list comprehension.<br>Written as \"(keyword lambda) (one or more inputs) (colon) (function to be executed)\"</p>"
   ]
  },
  {
   "cell_type": "markdown",
   "metadata": {},
   "source": [
    "#### Syntax"
   ]
  },
  {
   "cell_type": "code",
   "execution_count": null,
   "metadata": {},
   "outputs": [],
   "source": [
    "# regular function\n",
    "\n",
    "def addTwo(num):\n",
    "    return num + 2\n",
    "\n",
    "print(addTwo(4))\n",
    "\n",
    "#Lambda Syntax for defining a function without saving it to a variable\n",
    "print((lambda num: num + 2)(4))"
   ]
  },
  {
   "cell_type": "markdown",
   "metadata": {},
   "source": [
    "#### Saving to a Variable"
   ]
  },
  {
   "cell_type": "code",
   "execution_count": null,
   "metadata": {},
   "outputs": [],
   "source": [
    "# We can save lambdas as variables\n",
    "f_test = lambda num: num + 2\n",
    "\n",
    "print(f_test(4))"
   ]
  },
  {
   "cell_type": "markdown",
   "metadata": {},
   "source": [
    "#### Multiple Inputs"
   ]
  },
  {
   "cell_type": "code",
   "execution_count": null,
   "metadata": {},
   "outputs": [],
   "source": [
    "# Multiple inputs with no variable\n",
    "print((lambda x, y, z: x * y * z)(3, 5, 8))\n",
    "\n",
    "# longway of writing this function\n",
    "\n",
    "def multiply_nums(x, y, z):\n",
    "    return x * y * z\n",
    "\n",
    "print(multiply_nums(3, 5, 8))\n",
    "\n",
    "# Lambda function with multiple inputs saved to a variable\n",
    "num_test = lambda x, y, z,: x * y * z\n",
    "print(num_test(3, 5, 8))"
   ]
  },
  {
   "cell_type": "markdown",
   "metadata": {},
   "source": [
    "#### Passing a Lambda into a Function"
   ]
  },
  {
   "cell_type": "code",
   "execution_count": null,
   "metadata": {},
   "outputs": [],
   "source": [
    "def multiple(func, num):\n",
    "    \"\"\"\n",
    "    func expects a lambda function\n",
    "    and num expects an integer\n",
    "    \"\"\"\n",
    "    return func(num)\n",
    "\n",
    "print(multiple(lambda x: x*x, 4))#lambda 4: 4*4"
   ]
  },
  {
   "cell_type": "markdown",
   "metadata": {},
   "source": [
    "#### Returning a Lambda from a Function"
   ]
  },
  {
   "cell_type": "code",
   "execution_count": null,
   "metadata": {},
   "outputs": [],
   "source": [
    "# Regular way of defining function\n",
    "\n",
    "def multiply_test(num):\n",
    "    return num * 4\n",
    "\n",
    "print(multiply_test(2))\n",
    "\n",
    "# Syntax for writing function inside of functions\n",
    "def return_func():\n",
    "    test = 4\n",
    "    def multiply(num):\n",
    "        return num * 4\n",
    "    return multiply\n",
    "\n",
    "f_return = return_func()\n",
    "print(f_return(2))\n",
    "\n",
    "\n",
    "# Like to use lambdas instead inside functions\n",
    "def return_lamb(a, b):\n",
    "    \n",
    "    return lambda c,d: c + d + a + b\n",
    "\n",
    "r_return = return_lamb(3,4)\n",
    "print(r_return)\n",
    "print(r_return(5,6))"
   ]
  },
  {
   "cell_type": "markdown",
   "metadata": {},
   "source": [
    "#### If Statements within Lambdas"
   ]
  },
  {
   "cell_type": "code",
   "execution_count": null,
   "metadata": {},
   "outputs": [],
   "source": [
    "# Another example using lambda function inside of a function\n",
    "\n",
    "def my_func(num1, num2):\n",
    "    print(num1, num2)\n",
    "    \n",
    "    return lambda num3, num4: (num3 * num4) + (num1 * num2)\n",
    "\n",
    "print('With saving to variable')\n",
    "alex_var = my_func(1,2)\n",
    "# print(alex_var)\n",
    "print(alex_var(3,4))\n",
    "\n",
    "print('\\nWithout saving to variable')\n",
    "print(my_func(1,2)(3,4))"
   ]
  },
  {
   "cell_type": "code",
   "execution_count": null,
   "metadata": {},
   "outputs": [],
   "source": [
    "# Syntax for if statements in lambdas\n",
    "# Lambda x: True if (condition) else False\n",
    "\n",
    "f_conditional = lambda num: num * 2 if num > 10 else num + 2\n",
    "\n",
    "print(f_conditional(8))\n",
    "print(f_conditional(10))\n",
    "print(f_conditional(12))"
   ]
  },
  {
   "cell_type": "code",
   "execution_count": null,
   "metadata": {},
   "outputs": [],
   "source": [
    "# an example of an if, elif, else using lambdas\n",
    "\n",
    "alex_examp = lambda num: f\"{num} is less than 5\" if num < 5 else\\\n",
    "(f\"{num} is greater than 5 and les than 10\" if num < 10 else f\"{num} is greater than 10\")\n",
    "\n",
    "print(alex_examp(3))\n",
    "print(alex_examp(8))\n",
    "print(alex_examp(12))"
   ]
  },
  {
   "cell_type": "markdown",
   "metadata": {},
   "source": [
    "#### In-Class Exercise #1 <br>\n",
    "<p>Write an anonymous function that cubes the arguments passed in and assign the anonymous function to a variable 'f'.</p>"
   ]
  },
  {
   "cell_type": "code",
   "execution_count": null,
   "metadata": {},
   "outputs": [],
   "source": [
    "def cubing(num):\n",
    "\n",
    "    return lambda num: num ** 3\n",
    "    \n",
    "f = cubing(3)\n",
    "print(f(3))\n",
    "\n"
   ]
  },
  {
   "cell_type": "markdown",
   "metadata": {},
   "source": [
    "## Map <br>\n",
    "<p>The map function allows you to iterate over an entire list while running a function on each item of the list. This is why the map function works well with lambda's, because it simplifies things and you write less lines of code.<br>The syntax for a map function is \"map(function to be used, list to be used)\"<br>However, you must be careful, as the map function returns a map object, not a list. To turn it into a list we use the list() type conversion.</p>"
   ]
  },
  {
   "cell_type": "markdown",
   "metadata": {},
   "source": [
    "#### Syntax"
   ]
  },
  {
   "cell_type": "code",
   "execution_count": null,
   "metadata": {},
   "outputs": [],
   "source": [
    "# Syntax for utilizing map function\n",
    "# map(functions, iterable(list, dictionaries, tubples, sets))\n",
    "# Normally the usuage of map happens with a pre-defined function -- but we can use lambdas\n",
    "\n",
    "#utilizing the map function with a regular pre-defined user function\n",
    "\n",
    "def squared(num1, num2):\n",
    "    \n",
    "    if num1 <10 and num2 < 10:\n",
    "        return num1 ** 2, num2 ** 2\n",
    "    else:\n",
    "        return num1, num2\n",
    "    \n",
    "numbers = [4, 11, 20, 3, 15, 20]\n",
    "more_nums = [4, 10, 3, 2, 6]\n",
    "\n",
    "squared_nums = list(map(squared, numbers, more_nums)) # for num in num_list\n",
    "print(squared_nums)"
   ]
  },
  {
   "cell_type": "markdown",
   "metadata": {},
   "source": [
    "#### Using Lambda's with Map"
   ]
  },
  {
   "cell_type": "code",
   "execution_count": null,
   "metadata": {},
   "outputs": [],
   "source": [
    "# Syntax for map & lambdas\n",
    "# list(map(lambda x: (transformation on x), list (or other iterable))\n",
    "# usually happens in one line so it's cleaner code\n",
    "\n",
    "squared_nums_again = list(map(lambda num1, num2: (num1 ** 2, num2 ** 2) if num1 < 10 and num2 < 10\\\n",
    "                          else(num1,num2), numbers, more_nums))\n",
    "\n",
    "print(squared_nums_again)"
   ]
  },
  {
   "cell_type": "markdown",
   "metadata": {},
   "source": [
    "#### In-Class Exercise #2 <br>\n",
    "<p>Use the map function to double each number and minus it by one in the list by using a lambda function</p>"
   ]
  },
  {
   "cell_type": "code",
   "execution_count": null,
   "metadata": {},
   "outputs": [],
   "source": [
    "numbers: [1, 2, 3, 4, 5, 6]\n",
    "\n",
    "dub_minus_one = list(map(lambda num: num ** 2 - 1, numbers))\n",
    "\n",
    "print(dub_minus_one)"
   ]
  },
  {
   "cell_type": "markdown",
   "metadata": {},
   "source": [
    "## Filter() <br>\n",
    "<p>Filter's are similar to the map function, where you're able to pass a function argument and a list argument and filter out something from the list based on the conditions passed. Similar to the map function, it returns a filter object, so you need to type convert it to a list()</p>"
   ]
  },
  {
   "cell_type": "markdown",
   "metadata": {},
   "source": [
    "#### Syntax"
   ]
  },
  {
   "cell_type": "code",
   "execution_count": null,
   "metadata": {},
   "outputs": [],
   "source": [
    "# syntax for filter\n",
    "# list(filter(function, iterable(list, dict, tuples, set, etc)))\n",
    "\n",
    "names = ['Chris', 'Steve', 'Perry', 'Kelsey']\n",
    "\n",
    "def y_names(name):\n",
    "    \n",
    "    if name[-1].lower() == 'y':\n",
    "        return True\n",
    "    else:\n",
    "        return False\n",
    "    \n",
    "new_names_list = list(filter(y_names, names))\n",
    "print(new_names_list)"
   ]
  },
  {
   "cell_type": "markdown",
   "metadata": {},
   "source": [
    "#### Using Lambda's with Filter()"
   ]
  },
  {
   "cell_type": "code",
   "execution_count": null,
   "metadata": {},
   "outputs": [],
   "source": [
    "new_names_lamb = list(filter(lambda name: True if name[-1] == 'y' else False, names))\n",
    "print(new_names_lamb)"
   ]
  },
  {
   "cell_type": "markdown",
   "metadata": {},
   "source": [
    "#### In-Class Exercise #3 <br>\n",
    "<p>Filter out all the numbers that are below the mean of the list.<br><b>Hint: Import the 'statistics' module</b></p>"
   ]
  },
  {
   "cell_type": "code",
   "execution_count": null,
   "metadata": {},
   "outputs": [],
   "source": [
    "from statistics import mean\n",
    "num_list = [23, 43, 6, 52, 90, 104]\n",
    "\n",
    "below_mean = list(filter(lambda num: True if num < mean(num_list) else False, num_list))\n",
    "\n",
    "print(below_mean)"
   ]
  },
  {
   "cell_type": "markdown",
   "metadata": {},
   "source": [
    "## Reduce() <br>\n",
    "<p>Be very careful when using this function, as of Python 3 it's been moved to the 'functools' library and no longer is a built-in function.<br>The creator of Python himself, says to just use a for loop instead.</p>"
   ]
  },
  {
   "cell_type": "markdown",
   "metadata": {},
   "source": [
    "#### Syntax"
   ]
  },
  {
   "cell_type": "code",
   "execution_count": null,
   "metadata": {},
   "outputs": [],
   "source": [
    "from functools import reduce\n",
    "\n",
    "# syntax for reduce\n",
    "# reduce (function, iterable)\n",
    "\n",
    "list_1 = [2, 4, 6, 8, 10]\n",
    "\n",
    "# using a user-defined function with reduce\n",
    "\n",
    "def add_nums(num1,num2):\n",
    "    return num1 + num2\n",
    "\n",
    "result_add = reduce(add_nums, list_1)\n",
    "print(result_add)"
   ]
  },
  {
   "cell_type": "markdown",
   "metadata": {},
   "source": [
    "#### Using Lambda's with Reduce()"
   ]
  },
  {
   "cell_type": "code",
   "execution_count": null,
   "metadata": {},
   "outputs": [],
   "source": [
    "reduce_lamb = reduce(lambda num1, num2: num1 + num2, list_1)\n",
    "print(reduce_lamb)"
   ]
  },
  {
   "cell_type": "markdown",
   "metadata": {},
   "source": [
    "#### In-Class Exercise #4 <br>\n",
    "<p>Use the reduce function to multiply the numbers in the list below together with a lambda function.</p>"
   ]
  },
  {
   "cell_type": "code",
   "execution_count": null,
   "metadata": {},
   "outputs": [],
   "source": [
    "list = [34, 453, 5232, 64, 223, 535, 244234]\n",
    "\n",
    "reduce_mult2 = reduce(lambda num1, num2: num1 * num2, list)\n",
    "print(reduce_mult2)\n",
    "\n",
    "\n",
    "list_2 = [4, 5, 2, 8]\n",
    "\n",
    "reduce_lamb2 = reduce(lambda num1, num2: num1 * num2, list_2)\n",
    "print(reduce_lamb2)"
   ]
  },
  {
   "cell_type": "markdown",
   "metadata": {},
   "source": [
    "## Recursion <br>\n",
    "<p>Recursion means that a function is calling itself, so it contanstly executes until a base case is reached. It will then push the returning values back up the chain until the function is complete. A prime example of recursion is computing factorials... such that 5! (factorial) is 5*4*3*2*1 which equals 120.</p>"
   ]
  },
  {
   "cell_type": "markdown",
   "metadata": {},
   "source": [
    "#### Implementing a Base Case"
   ]
  },
  {
   "cell_type": "code",
   "execution_count": null,
   "metadata": {},
   "outputs": [],
   "source": [
    "def adds_nums(num):\n",
    "    # first we want to set our base case\n",
    "    if num <= 1:\n",
    "        print(\"add nums(1) = 1\")\n",
    "        return num\n",
    "    else:\n",
    "        print(f'add_nums({num} = {num} + add_nums({num-1})')\n",
    "        return num + adds_nums(num - 1)\n",
    "    \n",
    "adds_nums(5)"
   ]
  },
  {
   "cell_type": "markdown",
   "metadata": {},
   "source": [
    "#### Writing a Factorial Function"
   ]
  },
  {
   "cell_type": "code",
   "execution_count": null,
   "metadata": {},
   "outputs": [],
   "source": [
    "def factorial(num):\n",
    "    #set our base case\n",
    "    if num <= 1:\n",
    "        return 1\n",
    "    \n",
    "    else:\n",
    "        return num * factorial(num - 1)\n",
    "    \n",
    "print(factorial(5))"
   ]
  },
  {
   "cell_type": "markdown",
   "metadata": {},
   "source": [
    "#### In-Class Exercise #5 <br>\n",
    "<p>Write a recursive function that subtracts all numbers to the argument given.</p>"
   ]
  },
  {
   "cell_type": "code",
   "execution_count": null,
   "metadata": {},
   "outputs": [],
   "source": [
    "# return num - sub_nums(num - 1)\n",
    "\n",
    "def sub_nums(num):\n",
    "    # set our base case\n",
    "    if num <= 1:\n",
    "        print(\"sub_nums(1) = 1\")\n",
    "        return num\n",
    "    else:\n",
    "        print(f\"sub_nums({num}) = {num} - sub_nums({num - 1})\")\n",
    "        return num - sub_nums(num -1)\n",
    "            \n",
    "print(sub_nums(5))"
   ]
  },
  {
   "cell_type": "code",
   "execution_count": null,
   "metadata": {},
   "outputs": [],
   "source": [
    "# recursion is like a tree. YOu keep going down the tree until you reach the base case (roots) which one\n",
    "# you've reache the roots you can start to keep gowing\n",
    "\n",
    "# 5 - 3()\n",
    "# 4\n",
    "# 3\n",
    "# 2\n",
    "# 1"
   ]
  },
  {
   "cell_type": "markdown",
   "metadata": {},
   "source": [
    "## Generators <br>\n",
    "<p>Generators are a type of iterable, like lists or tuples. They do not allow indexing, but they can still be iterated through with for loops. They are created using functions and the yield statement.</p>"
   ]
  },
  {
   "cell_type": "markdown",
   "metadata": {},
   "source": [
    "#### Yield Keyword <br>\n",
    "<p>The yield keyword denotes a generator, it doesn't return so it won't leave the function and reset all variables in the function scope, instead it yields the number back to the caller.</p>"
   ]
  },
  {
   "cell_type": "code",
   "execution_count": null,
   "metadata": {},
   "outputs": [],
   "source": [
    "def my_range(stop, start, step = 2):\n",
    "    while start < stop:\n",
    "        yield start # yield keyword is what make it generator\n",
    "        start += step\n",
    "\n",
    "for i in my_range(20,2):\n",
    "    my_generator_value = i\n",
    "    print(my_generator_value)"
   ]
  },
  {
   "cell_type": "markdown",
   "metadata": {},
   "source": [
    "#### Infinite Generator"
   ]
  },
  {
   "cell_type": "code",
   "execution_count": null,
   "metadata": {},
   "outputs": [],
   "source": [
    "# bad, never create infinite loops\n",
    "\n",
    "def bad_range(stop, start, step=1):\n",
    "    while start < stop:\n",
    "        yield start\n",
    "for i in bad_range(10,1):\n",
    "    print(bad_range)"
   ]
  },
  {
   "cell_type": "markdown",
   "metadata": {},
   "source": [
    "#### In-Class Exercise #6 <br>\n",
    "<p>Create a generator that takes a number argument and yields that number squared, then prints each number squared until zero is reached.</p>"
   ]
  },
  {
   "cell_type": "code",
   "execution_count": 10,
   "metadata": {},
   "outputs": [
    {
     "name": "stdout",
     "output_type": "stream",
     "text": [
      "9\n",
      "4\n",
      "1\n",
      "0\n"
     ]
    }
   ],
   "source": [
    "def num_square(stop, start, step = 1):\n",
    "    while start >= stop:\n",
    "        yield start ** 2\n",
    "        start -= step\n",
    "        \n",
    "for i in num_square(0,3):\n",
    "    print(i)"
   ]
  },
  {
   "cell_type": "markdown",
   "metadata": {},
   "source": [
    "# Exercises"
   ]
  },
  {
   "cell_type": "markdown",
   "metadata": {},
   "source": [
    "### Exercise #1 <br>\n",
    "<p>Filter out all of the empty strings from the list below</p>\n",
    "\n",
    "`Output: ['Argentina', 'San Diego', 'Boston', 'New York']`"
   ]
  },
  {
   "cell_type": "code",
   "execution_count": 17,
   "metadata": {},
   "outputs": [
    {
     "name": "stdout",
     "output_type": "stream",
     "text": [
      "['Argentina', 'San Diego', 'Boston', 'New York']\n"
     ]
    }
   ],
   "source": [
    "places = [\" \",\"Argentina\", \" \", \"San Diego\",\"\",\"  \",\"\",\"Boston\",\"New York\"]\n",
    "\n",
    "filtered_names = list(filter(lambda place: True if place.strip() != '' else False, places))\n",
    "\n",
    "print(filtered_names)"
   ]
  },
  {
   "cell_type": "markdown",
   "metadata": {},
   "source": [
    "### Exercise #2 <br>\n",
    "<p>Write an anonymous function that sorts this list by the last name...<br><b>Hint: Use the \".sort()\" method and access the key\"</b></p>\n",
    "\n",
    "`Output: ['Victor aNisimov', 'Gary A.J. Bernstein', 'Joel Carter', 'Andrew P. Garfield', 'David hassELHOFF']`"
   ]
  },
  {
   "cell_type": "code",
   "execution_count": 56,
   "metadata": {},
   "outputs": [
    {
     "name": "stdout",
     "output_type": "stream",
     "text": [
      "['Victor Anisimov', 'Gary A.J. Bernstein', 'Joel Carter', 'Andrew P. Garfield', 'David Hasselhoff']\n"
     ]
    }
   ],
   "source": [
    "author = [\"Joel Carter\", \"Victor aNisimov\", \"Andrew P. Garfield\",\"David hassELHOFF\",\"Gary A.J. Bernstein\"]\n",
    "\n",
    "def sort_last_name(list_names):\n",
    "    \n",
    "    fixed_names = [name.title() for name in list_names]\n",
    "    \n",
    "    fixed_names.sort(key=lambda name: name.split()[-1])\n",
    "    \n",
    "    return fixed_names\n",
    "\n",
    "print(sort_last_name(author))"
   ]
  },
  {
   "cell_type": "markdown",
   "metadata": {},
   "source": [
    "### Exercise #3 <br>\n",
    "<p>Convert the list below from Celsius to Farhenheit, using the map function with a lambda...</p>\n",
    "\n",
    "`Output: [('Nashua', 89.6), ('Boston', 53.6), ('Los Angelos', 111.2), ('Miami', 84.2)]\n",
    "`"
   ]
  },
  {
   "cell_type": "code",
   "execution_count": 2,
   "metadata": {},
   "outputs": [
    {
     "name": "stdout",
     "output_type": "stream",
     "text": [
      "[('Nashua', 89.6), ('Boston', 53.6), ('Los Angelos', 111.2), ('Miami', 84.2)]\n"
     ]
    }
   ],
   "source": [
    "# F = (9/5)*C + 32\n",
    "# map or lambda; map preferrable\n",
    "#with map you can have an x and y variable and do two diferetent things\n",
    "# map(lambda x, y: (x (something to x), y (something to y)))\n",
    "\n",
    "places = [('Nashua',32),(\"Boston\",12),(\"Los Angelos\",44),(\"Miami\",29)]\n",
    "\n",
    "places_F = list(map(lambda y: (y[0], y[1]*(9/5)+32), places))\n",
    "\n",
    "print(places_F)"
   ]
  },
  {
   "cell_type": "markdown",
   "metadata": {},
   "source": [
    "### Exercise #4 <br>\n",
    "<p>Write a recursion function to perform the fibonacci sequence up to the number passed in.</p>\n",
    "\n",
    "`Output for fib(5) => \n",
    "Iteration 0: 1\n",
    "Iteration 1: 1\n",
    "Iteration 2: 2\n",
    "Iteration 3: 3\n",
    "Iteration 4: 5\n",
    "Iteration 5: 8`"
   ]
  },
  {
   "cell_type": "code",
   "execution_count": 4,
   "metadata": {
    "scrolled": true
   },
   "outputs": [
    {
     "name": "stdout",
     "output_type": "stream",
     "text": [
      "Iteration (0): 1\n",
      "Iteration (1): 1\n",
      "Iteration (2): 2\n",
      "Iteration (3): 3\n",
      "Iteration (4): 5\n",
      "Iteration (5): 8\n"
     ]
    }
   ],
   "source": [
    "def fib(num):\n",
    "    if num < 0:\n",
    "        print(\"invalid response\")\n",
    "    elif num == 0:\n",
    "        return 0\n",
    "    elif num == 1:\n",
    "        return 1\n",
    "    else:\n",
    "        return fib(num - 1) + fib(num - 2)\n",
    "\n",
    "fib(5)\n",
    "\n",
    "def fib_it(num):\n",
    "    for num in range(num+1):\n",
    "        print(f\"Iteration ({num}): {fib(num + 1)}\")\n",
    "\n",
    "fib_it(5)"
   ]
  }
 ],
 "metadata": {
  "kernelspec": {
   "display_name": "Python 3 (ipykernel)",
   "language": "python",
   "name": "python3"
  },
  "language_info": {
   "codemirror_mode": {
    "name": "ipython",
    "version": 3
   },
   "file_extension": ".py",
   "mimetype": "text/x-python",
   "name": "python",
   "nbconvert_exporter": "python",
   "pygments_lexer": "ipython3",
   "version": "3.10.7"
  }
 },
 "nbformat": 4,
 "nbformat_minor": 2
}
