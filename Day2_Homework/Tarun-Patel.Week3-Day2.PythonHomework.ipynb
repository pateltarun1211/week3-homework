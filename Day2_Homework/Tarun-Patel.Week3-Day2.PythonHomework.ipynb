{
 "cells": [
  {
   "cell_type": "markdown",
   "metadata": {},
   "source": [
    "# Object-Oriented-Programming (OOP)"
   ]
  },
  {
   "cell_type": "markdown",
   "metadata": {},
   "source": [
    "## Tasks Today:\n",
    "\n",
    "   \n",
    "\n",
    "1) <b>Creating a Class (Initializing/Declaring)</b> <br>\n",
    "2) <b>Using a Class (Instantiating)</b> <br>\n",
    " &nbsp;&nbsp;&nbsp;&nbsp; a) Creating One Instance <br>\n",
    " &nbsp;&nbsp;&nbsp;&nbsp; b) Creating Multiple Instances <br>\n",
    " &nbsp;&nbsp;&nbsp;&nbsp; c) In-Class Exercise #1 - Create a Class 'Car' and instantiate three different makes of cars <br>\n",
    "3) <b>The \\__init\\__() Method</b> <br>\n",
    " &nbsp;&nbsp;&nbsp;&nbsp; a) The 'self' Attribute <br>\n",
    "4) <b>Class Attributes</b> <br>\n",
    " &nbsp;&nbsp;&nbsp;&nbsp; a) Initializing Attributes <br>\n",
    " &nbsp;&nbsp;&nbsp;&nbsp; b) Setting an Attribute Outside of the \\__init\\__() Method <br>\n",
    " &nbsp;&nbsp;&nbsp;&nbsp; c) Setting Defaults for Attributes <br>\n",
    " &nbsp;&nbsp;&nbsp;&nbsp; d) Accessing Class Attributes <br>\n",
    " &nbsp;&nbsp;&nbsp;&nbsp; e) Changing Class Attributes <br>\n",
    " &nbsp;&nbsp;&nbsp;&nbsp; f) In-Class Exercise #2 - Add a color and wheels attribute to your 'Car' class <br>\n",
    "5) <b>Class Methods</b> <br>\n",
    " &nbsp;&nbsp;&nbsp;&nbsp; a) Creating <br>\n",
    " &nbsp;&nbsp;&nbsp;&nbsp; b) Calling <br>\n",
    " &nbsp;&nbsp;&nbsp;&nbsp; c) Modifying an Attribute's Value Through a Method <br>\n",
    " &nbsp;&nbsp;&nbsp;&nbsp; d) Incrementing an Attribute's Value Through a Method <br>\n",
    " &nbsp;&nbsp;&nbsp;&nbsp; e) In-Class Exercise #3 - Add a method that prints the cars color and wheel number, then call them <br>\n",
    "6) <b>Inheritance</b> <br>\n",
    " &nbsp;&nbsp;&nbsp;&nbsp; a) Syntax for Inheriting from a Parent Class <br>\n",
    " &nbsp;&nbsp;&nbsp;&nbsp; b) The \\__init\\__() Method for a Child Class (super()) <br>\n",
    " &nbsp;&nbsp;&nbsp;&nbsp; c) Defining Attributes and Methods for the Child Class <br>\n",
    " &nbsp;&nbsp;&nbsp;&nbsp; d) Method Overriding <br>\n",
    " &nbsp;&nbsp;&nbsp;&nbsp; e) In-Class Exercise #4 - Create a class 'Ford' that inherits from 'Car' class and initialize it as a Blue Ford Explorer with 4 wheels using the super() method <br>\n",
    "7) <b>Classes as Attributes</b> <br>\n",
    "8) <b>Exercises</b> <br>\n",
    " &nbsp;&nbsp;&nbsp;&nbsp; a) Exercise #1 - Turn the shopping cart program from last week into an object-oriented program <br>"
   ]
  },
  {
   "cell_type": "markdown",
   "metadata": {},
   "source": [
    "## Creating a Class (Initializing/Declaring)\n",
    "<p>When creating a class, function, or even a variable you are initializing that object. Initializing and Declaring occur at the same time in Python, whereas in lower level languages you have to declare an object before initializing it. This is the first step in the process of using a class.</p>"
   ]
  },
  {
   "cell_type": "code",
   "execution_count": null,
   "metadata": {},
   "outputs": [],
   "source": [
    "class Car():\n",
    "    wheels = 4\n",
    "    color = 'blue'"
   ]
  },
  {
   "cell_type": "markdown",
   "metadata": {},
   "source": [
    "## Using a Class (Instantiating)\n",
    "<p>The process of creating a class is called <i>Instantiating</i>. Each time you create a variable of that type of class, it is referred to as an <i>Instance</i> of that class. This is the second step in the process of using a class.</p>"
   ]
  },
  {
   "cell_type": "markdown",
   "metadata": {},
   "source": [
    "##### Creating One Instance"
   ]
  },
  {
   "cell_type": "code",
   "execution_count": null,
   "metadata": {},
   "outputs": [],
   "source": [
    "ford = Car()\n",
    "print(type(ford))\n",
    "print(ford.wheels)"
   ]
  },
  {
   "cell_type": "markdown",
   "metadata": {},
   "source": [
    "##### Creating Multiple Instances"
   ]
  },
  {
   "cell_type": "code",
   "execution_count": null,
   "metadata": {},
   "outputs": [],
   "source": [
    "mazda = Car()\n",
    "print(mazda.color)\n",
    "honda = Car()\n",
    "print(honda.wheels)\n",
    "chevy = Car()\n",
    "print(chevy.color)"
   ]
  },
  {
   "cell_type": "markdown",
   "metadata": {},
   "source": [
    "##### In-Class Exercise #1 - Create a Class 'Car' and Instantiate three different makes of cars"
   ]
  },
  {
   "cell_type": "code",
   "execution_count": null,
   "metadata": {},
   "outputs": [],
   "source": [
    "class Car():\n",
    "    def __init__(self, doors, color, fuel):\n",
    "        self.doors = doors\n",
    "        self.color = color\n",
    "        self.fuel = fuel\n",
    "\n",
    "audi_a6 = Car(4, 'black', 'gas')\n",
    "polestar_2 = Car(4, 'midnight', 'electric')\n",
    "mclaren_p1 = Car(2, 'orange', 'gas')\n",
    "\n",
    "print(audi_a6.color)\n",
    "print(mclaren_p1.doors)\n",
    "print(polestar_2.fuel)\n",
    "    "
   ]
  },
  {
   "cell_type": "markdown",
   "metadata": {},
   "source": [
    "## The \\__init\\__() Method <br>\n",
    "<p>This method is used in almost every created class, and called only once upon the creation of the class instance. This method will initialize all variables needed for the object.</p>"
   ]
  },
  {
   "cell_type": "code",
   "execution_count": null,
   "metadata": {},
   "outputs": [],
   "source": [
    "class Car():\n",
    "    def __init__(self, wheels, color, doors):\n",
    "        self.wheels = wheels\n",
    "        self.color = color\n",
    "        self.doors = doors\n",
    "        \n",
    "ford = Car(4, 'blue', 2)\n",
    "print(ford.wheels)\n",
    "print(ford.color)\n",
    "mazda = Car(4, 'red', 6)\n",
    "print(mazda.color)"
   ]
  },
  {
   "cell_type": "markdown",
   "metadata": {},
   "source": [
    "##### The 'self' Attribute <br>\n",
    "<p>This attribute is required to keep track of specific instance's attributes. Without the self attribute, the program would not know how to reference or keep track of an instance's attributes.</p>"
   ]
  },
  {
   "cell_type": "code",
   "execution_count": 1,
   "metadata": {},
   "outputs": [
    {
     "name": "stdout",
     "output_type": "stream",
     "text": [
      "self is referencing the object <__main__.Pokemon object at 0x107579960>, Charmander\n",
      "fire\n"
     ]
    }
   ],
   "source": [
    "# see above\n",
    "\n",
    "class Pokemon():\n",
    "    def __init__(self, name, type_):\n",
    "        # self is going to hold thep lace of the object we instantiate\n",
    "        self.name = name\n",
    "        self.type_ = type_\n",
    "        print(f\"self is referencing the object {self}, {self.name}\")\n",
    "        print(self.type_)\n",
    "\n",
    "charmander = Pokemon('Charmander', 'fire')\n",
    "        "
   ]
  },
  {
   "cell_type": "markdown",
   "metadata": {},
   "source": [
    "## Class Attributes <br>\n",
    "<p>While variables are inside of a class, they are referred to as attributes and not variables. When someone says 'attribute' you know they're speaking about a class. Attributes can be initialized through the init method, or outside of it.</p>"
   ]
  },
  {
   "cell_type": "markdown",
   "metadata": {},
   "source": [
    "##### Initializing Attributes"
   ]
  },
  {
   "cell_type": "code",
   "execution_count": 2,
   "metadata": {},
   "outputs": [
    {
     "name": "stdout",
     "output_type": "stream",
     "text": [
      "self is referencing the object <__main__.Pokemon object at 0x1075a2500>, Squirtle\n",
      "Water\n"
     ]
    }
   ],
   "source": [
    "# see above\n",
    "\n",
    "squirtle = Pokemon(\"Squirtle\", \"Water\")\n"
   ]
  },
  {
   "cell_type": "markdown",
   "metadata": {},
   "source": [
    "##### Accessing Class Attributes"
   ]
  },
  {
   "cell_type": "code",
   "execution_count": 4,
   "metadata": {
    "scrolled": true
   },
   "outputs": [
    {
     "name": "stdout",
     "output_type": "stream",
     "text": [
      "Squirtle\n",
      "Water\n",
      "{'name': 'Squirtle', 'type_': 'Water'}\n",
      "Charmander\n"
     ]
    }
   ],
   "source": [
    "# See Above\n",
    "\n",
    "print(squirtle.name)\n",
    "print(squirtle.type_)\n",
    "\n",
    "print(squirtle.__dict__)\n",
    "print(charmander.name)"
   ]
  },
  {
   "cell_type": "markdown",
   "metadata": {},
   "source": [
    "##### Setting Defaults for Attributes"
   ]
  },
  {
   "cell_type": "code",
   "execution_count": null,
   "metadata": {},
   "outputs": [],
   "source": [
    "class Car():\n",
    "    def __init__(self, wheels):\n",
    "        self.wheels = wheels\n",
    "        self.color = \"Blue\"\n",
    "    \n",
    "honda = Car(4)\n",
    "print(honda.wheels)\n",
    "print(honda.color)"
   ]
  },
  {
   "cell_type": "code",
   "execution_count": null,
   "metadata": {},
   "outputs": [],
   "source": [
    "class Car():\n",
    "    def __init__(self, wheels, color = \"Blue\"):\n",
    "        self.wheels = wheels\n",
    "        self.color = \"Blue\"\n",
    "    \n",
    "ford = Car(4)\n",
    "print(ford.wheels)\n",
    "print(ford.color)"
   ]
  },
  {
   "cell_type": "markdown",
   "metadata": {},
   "source": [
    "##### Changing Class Attributes <br>\n",
    "<p>Keep in mind there are global class attributes and then there are attributes only available to each class instance which won't effect other classes.</p>"
   ]
  },
  {
   "cell_type": "code",
   "execution_count": null,
   "metadata": {},
   "outputs": [],
   "source": [
    "# Change teh default attribute\n",
    "print(f\"Before attribute change: {honda.color}\")\n",
    "honda.color = \"white\"\n",
    "print(f\"After attribute change: {honda.color}\")"
   ]
  },
  {
   "cell_type": "code",
   "execution_count": null,
   "metadata": {},
   "outputs": [],
   "source": [
    "print(f\"Before attribute change: {ford.color}\")\n",
    "ford.color = \"Orange\"\n",
    "print(f\"After attribute change: {ford.color}\")"
   ]
  },
  {
   "cell_type": "markdown",
   "metadata": {},
   "source": [
    "##### In-Class Exercise #2 - Add a doors and seats attribute to your 'Car' class then print out two different instances with different doors and seats"
   ]
  },
  {
   "cell_type": "code",
   "execution_count": null,
   "metadata": {},
   "outputs": [],
   "source": [
    "class Car():\n",
    "    def __init__(self, doors, seats):\n",
    "        self.doors = doors\n",
    "        self.seats = seats\n",
    "    \n",
    "honda = Car(4,5)\n",
    "huracan = Car(2,2)\n",
    "gemera = Car(2,4)\n",
    "\n",
    "print(f\"Honda has {honda.doors} doors and {honda.seats} seats\")\n",
    "print(f\"Lamborghini Huracan has {huracan.doors} doors and {huracan.seats} seats\")\n",
    "print(f\"Koenigsegg Gemera has {gemera.doors} doors and {gemera.seats} seats\")\n",
    "\n",
    "honda = Car(2,2)\n",
    "print(f\"Honda has {honda.doors} doors and {honda.seats} seats\")\n"
   ]
  },
  {
   "cell_type": "markdown",
   "metadata": {},
   "source": [
    "## Class Methods <br>\n",
    "<p>While inside of a class, functions are referred to as 'methods'. If you hear someone mention methods, they're speaking about classes. Methods are essentially functions, but only callable on the instances of a class.</p>"
   ]
  },
  {
   "cell_type": "markdown",
   "metadata": {},
   "source": [
    "##### Creating"
   ]
  },
  {
   "cell_type": "code",
   "execution_count": null,
   "metadata": {},
   "outputs": [],
   "source": [
    "class Bus():\n",
    "    \"\"\"\n",
    "    The bus will have doors, seats, seats available, color, and a bus driver\n",
    "    \n",
    "    Attributes for the class:\n",
    "    -doors: integer\n",
    "    -seats: integer\n",
    "    -seats_available: integer\n",
    "    -color: string\n",
    "    -bus_driver:string\n",
    "    \"\"\"\n",
    "    \n",
    "    def __init__(self, doors, seats, seats_available, color, bus_driver):\n",
    "        self.doors = doors\n",
    "        self.seats = seats\n",
    "        self.seats_available = seats_available\n",
    "        self.color = color\n",
    "        self.bus_driver = bus_driver\n",
    "        \n",
    "    # Decrement the number of seats available\n",
    "    def load_passengers(self):\n",
    "        if self.seats_available <= 0:\n",
    "            print(\"This bus is full! You can't take any more passengers!\")\n",
    "            if self.seats_available < 0:\n",
    "                print(f\"You left {abs(self.seats_available)} by the road!\")\n",
    "                self.seats_available = 0\n",
    "        else:\n",
    "            passengers = int(input(\"How many passengers are getting on? \"))\n",
    "            self.seats_available -= passengers\n",
    "            print(f\"{passengers} passengers have boarded. There are {self.seats_available} left on the bus!\")\n",
    "                  \n",
    "    # Increment the number of seats available\n",
    "    def unload_passengers(self):\n",
    "        if self.seats_available >= self.seats:\n",
    "            print(\"There is no one left to get off the bus!\")\n",
    "        else:\n",
    "            unload = int(input(\"How many passengers are getting off the bus? \"))\n",
    "            self.seats_available += unload\n",
    "            if self.seats_available >= self.seats:\n",
    "                self.seats_available = self.seats\n",
    "                print(f\"{unload} passengers have left the bus. There are {self.seats_available} seats left\")\n",
    "            print(f\"{unload} passengers have left the bus. There are {self.seats_available} seats left\")\n",
    "    \n",
    "    # change bus_driver attribute\n",
    "    def change_driver(self):\n",
    "        change = input(\"who is replacing you? \")\n",
    "        self.bus_driver = change\n",
    "        print(f\"The new bus driver is {self.bus_driver}. Be sure to thank them!\")\n",
    "    \n",
    "    #display seat information\n",
    "    def check_seat(self):\n",
    "        print(self.seats_available)\n",
    "    \n",
    "    #display color information about bus\n",
    "    def admire_bus(self):\n",
    "        print(f\"Would ya just look at the at beautiful {self.color} bus!\")\n",
    "        \n",
    "\n",
    "ryan_bus = Bus(2, 9, 45, \"yellow\", \"Ryan\")"
   ]
  },
  {
   "cell_type": "markdown",
   "metadata": {},
   "source": [
    "##### Calling"
   ]
  },
  {
   "cell_type": "code",
   "execution_count": null,
   "metadata": {},
   "outputs": [],
   "source": [
    "# See Above\n",
    "\n",
    "def run():\n",
    "    while True:\n",
    "        response = input(\"What would you like to do? Load/Unload/Change Driver/Check Seats/Admire/Quit? \")\n",
    "        if response.lower() == 'quit':\n",
    "            print(\"Oh no! There are still passengers to be picked up! :( \")\n",
    "            break\n",
    "        \n",
    "        elif response.lower() == \"load\":\n",
    "            ryan_bus.load_passengers()\n",
    "        \n",
    "        elif response.lower() == \"unload\":\n",
    "            ryan_bus.unload_passengers()\n",
    "        \n",
    "        elif response.lower() == \"change driver\":\n",
    "            ryan_bus.change_driver()\n",
    "        \n",
    "        elif response.lower() == \"check seats\":\n",
    "            ryan_bus.check_seat()\n",
    "        \n",
    "        elif response.lower() == \"admire\":\n",
    "            ryan_bus.admire_bus()\n",
    "            \n",
    "        else:\n",
    "            print(\"That is not a valid response! Please pick from the list! \")\n",
    "            \n",
    "run()"
   ]
  },
  {
   "cell_type": "markdown",
   "metadata": {},
   "source": [
    "##### Modifying an Attribute's Value Through a Method"
   ]
  },
  {
   "cell_type": "code",
   "execution_count": null,
   "metadata": {},
   "outputs": [],
   "source": [
    "# see above"
   ]
  },
  {
   "cell_type": "markdown",
   "metadata": {},
   "source": [
    "##### Incrementing an Attribute's Value Through a Method"
   ]
  },
  {
   "cell_type": "code",
   "execution_count": null,
   "metadata": {},
   "outputs": [],
   "source": [
    "# see above"
   ]
  },
  {
   "cell_type": "markdown",
   "metadata": {},
   "source": [
    "##### In-Class Exercise #3 - Add a method that takes in three parameters of year, doors and seats and prints out a formatted print statement with make, model, year, seats, and doors"
   ]
  },
  {
   "cell_type": "code",
   "execution_count": null,
   "metadata": {},
   "outputs": [],
   "source": [
    "# Create class with 2 paramters inside of the __init__ which are make and model\n",
    "\n",
    "class Car():\n",
    "    def __init__(self, make, model, year, door, seats):\n",
    "        self.make = make\n",
    "        self.model = model\n",
    "        self.year = year\n",
    "        self.door = door\n",
    "        self.seats = seats\n",
    "        \n",
    "    def show_car(self):\n",
    "        print(f\"You drive a {self.year} {self.make} {self.model} that has {self.doors} doors and {self.seats} seats.\")\n",
    "    \n",
    "    def change_make_model(self):\n",
    "        new_make = input(\"What make do you want to change your car to? \")\n",
    "        self.make = new.make\n",
    "        new_model = input(\"What model do you want to change your car to? \")\n",
    "        self.model = new_model\n",
    "              \n",
    "              \n",
    "              \n",
    "              \n",
    "car_1 = ('Polestar', '2', 2023, 4, 4)\n",
    "              \n",
    "print(car_1)\n",
    "\n",
    "# Create two methods for your class\n",
    "\n",
    "# Inside of the Car class create a method that has 4 parameter in total (self,year,door,seats)\n",
    "\n",
    "# Display method that prints information about the vehicle\n",
    "\n",
    "# Output: This car is from 2019 and is a Ford Expolorer and has 4 doors and 5 seats\n",
    "\n",
    "# reminder in order to call class methods instance.method()\n",
    "\n"
   ]
  },
  {
   "cell_type": "markdown",
   "metadata": {},
   "source": [
    "## Inheritance <br>\n",
    "<p>You can create a child-parent relationship between two classes by using inheritance. What this allows you to do is have overriding methods, but also inherit traits from the parent class. Think of it as an actual parent and child, the child will inherit the parent's genes, as will the classes in OOP</p>"
   ]
  },
  {
   "cell_type": "markdown",
   "metadata": {},
   "source": [
    "##### Syntax for Inheriting from a Parent Class"
   ]
  },
  {
   "cell_type": "code",
   "execution_count": null,
   "metadata": {},
   "outputs": [],
   "source": [
    "# Create parent class\n",
    "class Animal():\n",
    "    ACCELERATION = 9.8\n",
    "    def __init__(self, name, species, legs=4):\n",
    "        self.name = name\n",
    "        self.species = species\n",
    "        self.legs = legs\n",
    "    \n",
    "    # Generic Parent Method\n",
    "    def make_sound(self):\n",
    "        print(\"REEEEEEEEEE\")\n",
    "        \n",
    "# Creation of our child class - Dog\n",
    "class Dog(Animal):\n",
    "    SPEED = 15\n",
    "    \n",
    "    def print_info(self):\n",
    "        print(f\"{self.name} runs at {self.SPEED} mph and accelerates at {self.ACCELERATION} m/s^2\")\n",
    "        \n",
    "# Creation of our grandchild class - Mutt\n",
    "class Mutt(Dog):\n",
    "    COLOR = \"light brownish, beige\"\n",
    "    \n",
    "    # Accessing the Animal class init through the Dog Class\n",
    "    def __init__(self, name, species, eye_color, legs = 4):\n",
    "        Dog.__init__(self, name, species, legs)\n",
    "        self.eye_color = eye_color\n",
    "    \n",
    "    # Override the make_sound method from the Animal class\n",
    "    def make_sound(self):\n",
    "        print(\"roooooo\")"
   ]
  },
  {
   "cell_type": "code",
   "execution_count": null,
   "metadata": {},
   "outputs": [],
   "source": [
    "bear = Animal(\"Otto\", \"Polar Bear\")\n",
    "otter = Animal(\"Bear\", \"River Otter\")\n",
    "liger = Animal(\"Napoleon\", \"Liger\")\n",
    "\n",
    "bear.make_sound()\n",
    "otter.make_sound()\n",
    "liger.make_sound()\n",
    "llama = Animal(\"Tina\", \"Llama\")\n",
    "print(bear.ACCELERATION)\n",
    "llama.make_sound()"
   ]
  },
  {
   "cell_type": "code",
   "execution_count": null,
   "metadata": {},
   "outputs": [],
   "source": [
    "greg = Dog(\"Greg\", \"Pitbull\")\n",
    "greg.make_sound()\n",
    "print(greg.legs)\n",
    "greg.print_info()\n",
    "\n"
   ]
  },
  {
   "cell_type": "code",
   "execution_count": null,
   "metadata": {},
   "outputs": [],
   "source": [
    "eyo = Mutt(\"Eyo\", \"Dog\", \"Brown\")\n",
    "henri = Mutt(\"Henri\", \"Dog\", \"Green\")\n",
    "\n",
    "eyo.print_info()\n",
    "print(henri.COLOR)"
   ]
  },
  {
   "cell_type": "markdown",
   "metadata": {},
   "source": [
    "##### The \\__init\\__() Method for a Child Class - super()"
   ]
  },
  {
   "cell_type": "code",
   "execution_count": null,
   "metadata": {
    "scrolled": true
   },
   "outputs": [],
   "source": [
    "class Mutt(Dog):\n",
    "    COLOR = 'lots of colors'\n",
    "    # accessing the Animal class __init__ with the super().__init__\n",
    "    def __init__(self, name, species, eye_color, legs = 4):\n",
    "        super().__init__(name,species, legs)\n",
    "        #super() will reference the class that the child take in\n",
    "    def make_sound(self):\n",
    "        print(\"woooof\")\n",
    "        \n",
    "courage = Mutt(\"Courage\", \"Schnauzer\", \"black\")\n",
    "\n",
    "print(courage.name)\n",
    "print(courage.species)\n",
    "courage.print_info()"
   ]
  },
  {
   "cell_type": "markdown",
   "metadata": {},
   "source": [
    "##### Defining Attributes and Methods for the Child Class"
   ]
  },
  {
   "cell_type": "code",
   "execution_count": null,
   "metadata": {},
   "outputs": [],
   "source": [
    "# See Above"
   ]
  },
  {
   "cell_type": "markdown",
   "metadata": {},
   "source": [
    "##### Method Overriding"
   ]
  },
  {
   "cell_type": "code",
   "execution_count": null,
   "metadata": {},
   "outputs": [],
   "source": [
    "# See Above"
   ]
  },
  {
   "cell_type": "markdown",
   "metadata": {},
   "source": [
    "## Classes as Attributes <br>\n",
    "<p>Classes can also be used as attributes within another class. This is useful in situations where you need to keep variables locally stored, instead of globally stored.</p>"
   ]
  },
  {
   "cell_type": "code",
   "execution_count": null,
   "metadata": {},
   "outputs": [],
   "source": [
    "class Battery():\n",
    "    VOLTZ = 7.8\n",
    "    \n",
    "    def __init__(self, cells):\n",
    "        self.cells = cells\n",
    "    \n",
    "class Car():\n",
    "    def __init__(self, year, make, model, battery):\n",
    "        self.year = year\n",
    "        self.make = make\n",
    "        self.model = model\n",
    "        self.battery = battery\n",
    "    \n",
    "    def print_info(self):\n",
    "        print(f\"{self.year} {self.make} {self.model} {self.battery.cells}\")\n",
    "        \n",
    "battery = Battery(20)\n",
    "\n",
    "volkswagen = Car(2022, \"Volkswagen\", \"Jetta\", battery)\n",
    "\n",
    "volkswagen.print_info()\n",
    "\n",
    "print(volkswagen.battery.VOLTZ)"
   ]
  },
  {
   "cell_type": "markdown",
   "metadata": {},
   "source": [
    "# Exercises"
   ]
  },
  {
   "cell_type": "markdown",
   "metadata": {},
   "source": [
    "### Exercise 1 - Turn the shopping cart program from yesterday into an object-oriented program\n",
    "\n",
    "The comments in the cell below are there as a guide for thinking about the problem. However, if you feel a different way is best for you and your own thought process, please do what feels best for you by all means."
   ]
  },
  {
   "cell_type": "code",
   "execution_count": null,
   "metadata": {},
   "outputs": [],
   "source": [
    "# Create a class called cart that retains items and has methods to add, remove, and show\n",
    "\n",
    "from itertools import product\n",
    "from math import prod\n",
    "from traceback import print_last, print_list\n",
    "from IPython.display import clear_output\n",
    "\n",
    "# Ask the user four bits of input: Do you want to : Show/Add/Delete or Quit?\n",
    "\n",
    "class Shop_list():\n",
    "\n",
    "    def __init__(self):\n",
    "        self.cart = {}\n",
    "        self.empty_cart = {}\n",
    "\n",
    "    def add_product(self):\n",
    "        product = input(\"\\nWhat would you like to add to your cart? \")\n",
    "        self.cart[product.lower()] = input(\"Quantity: \")\n",
    "\n",
    "    def del_product(self):\n",
    "        self.remove = input(\"\\nWhat product would you like to remove? \")\n",
    "        if self.remove.lower() in self.cart.keys():\n",
    "            del self.cart[self.remove]\n",
    "        else:\n",
    "            print(\"\\nPRODUCT NOT IN CART\")\n",
    "            \n",
    "    def show_list(self):\n",
    "        print(\"\\nYour Shopping List:\\n(Product - Qty.)\")\n",
    "        for product, quantity in self.cart.items():\n",
    "            print(f\"{product.title()} - {quantity}\")\n",
    "\n",
    "\n",
    "\n",
    "cart1 = Shop_list()\n",
    "\n",
    "def run():\n",
    "    while True:\n",
    "        action = input(\"\\nWhat would you like to do with your shopping list? \\n\\nShow List - 'show' \\nAdd product - 'add' \\nDelete product - 'delete' \\nQuit - 'quit' \\n\\nEnter Response: \")\n",
    "        if action.lower() == 'quit':\n",
    "            cart1.show_list()\n",
    "            break\n",
    "\n",
    "        elif action.lower() == 'show':\n",
    "            cart1.show_list()\n",
    "\n",
    "        elif action.lower() == 'add':\n",
    "            cart1.add_product()\n",
    "\n",
    "        elif action.lower() == 'delete':\n",
    "            cart1.show_list()\n",
    "            cart1.del_product()\n",
    "        \n",
    "        else:\n",
    "            print(\"Invalid response\")\n",
    "\n",
    "run()"
   ]
  },
  {
   "cell_type": "markdown",
   "metadata": {},
   "source": [
    "### Exercise 2 - Write a Python class which has two methods get_String and print_String. get_String accept a string from the user and print_String print the string in upper case"
   ]
  },
  {
   "cell_type": "code",
   "execution_count": null,
   "metadata": {},
   "outputs": [],
   "source": [
    "class user_output():\n",
    "\n",
    "    def __init__(self):\n",
    "        self.u_input = \"\"\n",
    "    \n",
    "    def get_input(self):\n",
    "        self.u_input = input(\"Input: \")\n",
    "    \n",
    "    def print_input(self):\n",
    "        print(self.u_input.upper())\n",
    "\n",
    "u_input = user_output()\n",
    "u_input.get_input()\n",
    "u_input.print_input()\n",
    "    "
   ]
  }
 ],
 "metadata": {
  "kernelspec": {
   "display_name": "Python 3 (ipykernel)",
   "language": "python",
   "name": "python3"
  },
  "language_info": {
   "codemirror_mode": {
    "name": "ipython",
    "version": 3
   },
   "file_extension": ".py",
   "mimetype": "text/x-python",
   "name": "python",
   "nbconvert_exporter": "python",
   "pygments_lexer": "ipython3",
   "version": "3.10.7"
  }
 },
 "nbformat": 4,
 "nbformat_minor": 2
}
